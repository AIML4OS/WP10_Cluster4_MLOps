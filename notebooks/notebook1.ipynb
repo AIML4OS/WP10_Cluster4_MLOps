{
  "cells": [
    {
      "cell_type": "markdown",
      "metadata": {},
      "source": [
        "# Quarto Basics"
      ],
      "id": "5beea03f-24ae-4147-97bc-848d3f77a05c"
    }
  ],
  "nbformat": 4,
  "nbformat_minor": 5,
  "metadata": {
    "kernelspec": {
      "name": "python3",
      "display_name": "Python 3 (ipykernel)",
      "language": "python",
      "path": "/home/onyxia/work/WP10_Cluster4_MLOps_tutorial/.venv/share/jupyter/kernels/python3"
    }
  }
}